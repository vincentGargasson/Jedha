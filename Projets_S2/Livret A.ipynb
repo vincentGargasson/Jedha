{
 "cells": [
  {
   "cell_type": "code",
   "execution_count": null,
   "metadata": {},
   "outputs": [],
   "source": [
    "def R0I (x,y,z):\n",
    "    return nombre\n",
    "\n",
    "x = int(input(\"Indiquez le montant que vous souhaitez placer\"))\n",
    "if x < 0:\n",
    "    print (\"Attention, veillez bien à rentrer une nombre entier positif\")"
   ]
  },
  {
   "cell_type": "code",
   "execution_count": 39,
   "metadata": {},
   "outputs": [
    {
     "name": "stdin",
     "output_type": "stream",
     "text": [
      "Indiquez la duree sur laquelle vous souhaitez placer 2\n"
     ]
    }
   ],
   "source": [
    "y = int(input(\"Indiquez la duree sur laquelle vous souhaitez placer\"))\n",
    "if y < 0:\n",
    "    print (\"Attention, veillez bien à rentrer une nombre entier positif\")"
   ]
  },
  {
   "cell_type": "code",
   "execution_count": 40,
   "metadata": {},
   "outputs": [
    {
     "name": "stdin",
     "output_type": "stream",
     "text": [
      "A quel interet souhaitez vous placer? 0.4\n"
     ]
    }
   ],
   "source": [
    "z  = float(input(\"A quel interet souhaitez vous placer?\"))\n",
    "if z< 0:\n",
    "    print (\"Attention, veillez bien à rentrer une nombre entier positif\")"
   ]
  },
  {
   "cell_type": "code",
   "execution_count": 41,
   "metadata": {},
   "outputs": [],
   "source": [
    " nombre = x*((1+z)**y)\n",
    " "
   ]
  },
  {
   "cell_type": "code",
   "execution_count": 42,
   "metadata": {},
   "outputs": [
    {
     "data": {
      "text/plain": [
       "587.9999999999999"
      ]
     },
     "execution_count": 42,
     "metadata": {},
     "output_type": "execute_result"
    }
   ],
   "source": [
    "nombre"
   ]
  },
  {
   "cell_type": "code",
   "execution_count": null,
   "metadata": {},
   "outputs": [],
   "source": [
    "ROI()"
   ]
  },
  {
   "cell_type": "code",
   "execution_count": null,
   "metadata": {},
   "outputs": [],
   "source": []
  },
  {
   "cell_type": "code",
   "execution_count": null,
   "metadata": {},
   "outputs": [],
   "source": []
  }
 ],
 "metadata": {
  "kernelspec": {
   "display_name": "Python 3",
   "language": "python",
   "name": "python3"
  },
  "language_info": {
   "codemirror_mode": {
    "name": "ipython",
    "version": 3
   },
   "file_extension": ".py",
   "mimetype": "text/x-python",
   "name": "python",
   "nbconvert_exporter": "python",
   "pygments_lexer": "ipython3",
   "version": "3.7.1"
  }
 },
 "nbformat": 4,
 "nbformat_minor": 2
}
